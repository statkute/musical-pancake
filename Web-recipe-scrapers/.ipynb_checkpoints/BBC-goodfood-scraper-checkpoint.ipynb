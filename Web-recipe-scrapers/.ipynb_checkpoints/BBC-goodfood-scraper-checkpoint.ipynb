{
 "cells": [
  {
   "cell_type": "code",
   "execution_count": 1,
   "metadata": {
    "collapsed": true
   },
   "outputs": [],
   "source": [
    "import requests\n",
    "from bs4 import BeautifulSoup\n",
    "\n",
    "HEADERS = {\n",
    "    'User-Agent': 'Mozilla/5.0 (Windows; U; Windows NT 5.1; en-US; rv:1.9.0.7) Gecko/2009021910 Firefox/3.0.7'\n",
    "}"
   ]
  },
  {
   "cell_type": "code",
   "execution_count": 2,
   "metadata": {
    "collapsed": true
   },
   "outputs": [],
   "source": [
    "class BBCGoodfoodScraper():\n",
    "    recipes = {}\n",
    "    def __init__(self):\n",
    "        self.links = []\n",
    "        self.rootUrl = 'https://www.bbcgoodfood.com'\n",
    "\n",
    "    def getRecipesLinksFromPage(self, url):\n",
    "        page = requests.get(self.rootUrl+url, headers = HEADERS)\n",
    "        soup = BeautifulSoup(page.content, 'html.parser')\n",
    "\n",
    "        for recipe in soup.find_all('h3', class_='teaser-item__title'):\n",
    "            for link in recipe.find_all('a'):\n",
    "                self.links.append(link.get('href'));\n",
    "        nextUrl = soup.find('a', attrs={'title':'Go to next page'})\n",
    "        try:\n",
    "            return(nextUrl.get('href'))\n",
    "        except Exception as inst:\n",
    "            return None\n",
    "\n",
    "    def getAllRecipeLinks(self, nextUrl):\n",
    "        while(nextUrl is not None):\n",
    "            nextUrl = self.getRecipesLinksFromPage(nextUrl);\n",
    "\n",
    "\n",
    "    def getRecipe(self, url):\n",
    "        recipe = {}\n",
    "        recipe['details'] = {}\n",
    "        page = requests.get(self.rootUrl+url, headers = HEADERS)\n",
    "        soup = BeautifulSoup(page.content, 'html.parser')\n",
    "        recipe_title = soup.find('h1', attrs={'class':'recipe-header__title', 'itemprop':'name'}).text\n",
    "        recipe_details = soup.find('div', attrs={'class':'recipe-details'})\n",
    "        recipe_ingredients = soup.find('div', attrs={'class':'ingredients-list__content'})\n",
    "        recipe_methof = soup.find('section', attrs={'id':'recipe-method'})\n",
    "        recipe['title'] = recipe_title\n",
    "        recipe['details']['prep_time'] = recipe_details.find_all('span', attrs={'class':'mins'})[0].text\n",
    "        recipe['details']['cook_time'] = recipe_details.find_all('span', attrs={'class':'mins'})[1].text\n",
    "        recipe['details']['difficulty'] = recipe_details.find('span', attrs={'class':'recipe-details__text'}).text\n",
    "        print(recipe_ingredients)\n",
    "\n",
    "    def getAllRecipes(self):\n",
    "        for link in self.links:\n",
    "            self.getRecipe(link)\n",
    "            break;"
   ]
  },
  {
   "cell_type": "code",
   "execution_count": 3,
   "metadata": {
    "collapsed": true
   },
   "outputs": [],
   "source": [
    "scraper = BBCGoodfoodScraper()\n",
    "scraper.getAllRecipeLinks('/recipes/collection/under-20-minutes')"
   ]
  },
  {
   "cell_type": "code",
   "execution_count": 5,
   "metadata": {},
   "outputs": [
    {
     "name": "stdout",
     "output_type": "stream",
     "text": [
      "{'details': {'prep_time': '10 mins', 'cook_time': '10 mins', 'difficulty': ' Easy '}, 'title': 'Salmon with beetroot, feta & lime salsa'}\n"
     ]
    }
   ],
   "source": [
    "scraper.getAllRecipes()"
   ]
  },
  {
   "cell_type": "code",
   "execution_count": 7,
   "metadata": {},
   "outputs": [],
   "source": [
    "recipe = {}\n",
    "rootUrl = 'https://www.bbcgoodfood.com'\n",
    "url = '/recipes/5856/lemon-chicken-with-spring-veg-noodles'\n",
    "recipe['details'] = {}\n",
    "recipe['ingredients'] = {}\n",
    "page = requests.get(rootUrl+url, headers = HEADERS)\n",
    "soup = BeautifulSoup(page.content, 'html.parser')"
   ]
  },
  {
   "cell_type": "code",
   "execution_count": 20,
   "metadata": {},
   "outputs": [
    {
     "name": "stdout",
     "output_type": "stream",
     "text": [
      "1 tbsp sunflower oil Sunflower oilA variety of oils can be used for baking. Sunflower is the one we use most often at Good Food as… \n",
      "\n",
      "\n",
      "2 skinless chicken breasts, cut into strips\n",
      "\n",
      "\n",
      "zest and juice 1 lemon Lemon le-monOval in shape, with a pronouced bulge on one end, lemons are one of the most versatile fruits… \n",
      "\n",
      "\n",
      "1 tbsp caster sugar\n",
      "\n",
      "\n",
      "2 tbsp grated fresh root ginger Ginger jin-jerMainly grown in Jamaica, Africa, India, China and Australia, ginger is the root of the plant. It… \n",
      "\n",
      "\n",
      "2 tsp cornflour\n",
      "\n",
      "\n",
      "125g pack or 2 sheets medium dried egg noodle\n",
      "\n",
      "\n",
      "200g frozen pea and bean mix\n",
      "\n",
      "\n",
      "4 spring onions, sliced Spring onion sp-ring un-yunAlso known as scallions or green onions, spring onions are in fact very young onions, harvested… \n",
      "\n",
      "\n",
      "1 tbsp roasted cashews Cashew ka-shooThe seeds from the 'Cashew Apple' - a tree which bears bright orange fruit and is native… \n",
      "\n",
      "\n"
     ]
    }
   ],
   "source": [
    "recipe_title = soup.find('h1', attrs={'class':'recipe-header__title', 'itemprop':'name'}).text\n",
    "recipe_details = soup.find('div', attrs={'class':'recipe-details'})\n",
    "recipe_ingredients = soup.find('div', attrs={'class':'ingredients-list__content'})\n",
    "recipe_methof = soup.find('section', attrs={'id':'recipe-method'})\n",
    "recipe['title'] = recipe_title\n",
    "recipe['details']['prep_time'] = recipe_details.find_all('span', attrs={'class':'mins'})[0].text\n",
    "recipe['details']['cook_time'] = recipe_details.find_all('span', attrs={'class':'mins'})[1].text\n",
    "recipe['details']['difficulty'] = recipe_details.find('span', attrs={'class':'recipe-details__text'}).text\n",
    "for this in recipe_ingredients.find_all('li', attrs={'class':'ingredients-list__item'}):\n",
    "    recipe[]"
   ]
  },
  {
   "cell_type": "code",
   "execution_count": null,
   "metadata": {
    "collapsed": true
   },
   "outputs": [],
   "source": [
    "i#f __name__ == \"__main__\":\n",
    "#    scraper = BBCGoodfoodScraper()\n",
    "#    scraper.getAllRecipeLinks('/recipes/collection/under-20-minutes')\n",
    "#    scraper.getAllRecipes()\n"
   ]
  }
 ],
 "metadata": {
  "kernelspec": {
   "display_name": "Python 3",
   "language": "python",
   "name": "python3"
  },
  "language_info": {
   "codemirror_mode": {
    "name": "ipython",
    "version": 3
   },
   "file_extension": ".py",
   "mimetype": "text/x-python",
   "name": "python",
   "nbconvert_exporter": "python",
   "pygments_lexer": "ipython3",
   "version": "3.6.3"
  }
 },
 "nbformat": 4,
 "nbformat_minor": 2
}
