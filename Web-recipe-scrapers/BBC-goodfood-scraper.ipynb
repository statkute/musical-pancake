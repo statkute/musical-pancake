{
 "cells": [
  {
   "cell_type": "code",
   "execution_count": 1,
   "metadata": {
    "collapsed": true
   },
   "outputs": [],
   "source": [
    "import requests\n",
    "from bs4 import BeautifulSoup\n",
    "\n",
    "HEADERS = {\n",
    "    'User-Agent': 'Mozilla/5.0 (Windows; U; Windows NT 5.1; en-US; rv:1.9.0.7) Gecko/2009021910 Firefox/3.0.7'\n",
    "}"
   ]
  },
  {
   "cell_type": "code",
   "execution_count": 10,
   "metadata": {
    "collapsed": true
   },
   "outputs": [],
   "source": [
    "class BBCGoodfoodScraper():\n",
    "    recipes = {}\n",
    "    def __init__(self):\n",
    "        self.links = []\n",
    "        self.rootUrl = 'https://www.bbcgoodfood.com'\n",
    "        self.recipes['recipes'] = {}\n",
    "\n",
    "    def getRecipesLinksFromPage(self, url):\n",
    "        page = requests.get(self.rootUrl+url, headers = HEADERS)\n",
    "        soup = BeautifulSoup(page.content, 'html.parser')\n",
    "\n",
    "        for recipe in soup.find_all('h3', class_='teaser-item__title'):\n",
    "            for link in recipe.find_all('a'):\n",
    "                self.links.append(link.get('href'));\n",
    "        nextUrl = soup.find('a', attrs={'title':'Go to next page'})\n",
    "        try:\n",
    "            return(nextUrl.get('href'))\n",
    "        except Exception as inst:\n",
    "            return None\n",
    "\n",
    "    def getAllRecipeLinks(self, nextUrl):\n",
    "        while(nextUrl is not None):\n",
    "            nextUrl = self.getRecipesLinksFromPage(nextUrl);\n",
    "\n",
    "\n",
    "    def getRecipe(self, url, idx):\n",
    "        recipe = {}\n",
    "        recipe['details'] = {}\n",
    "        recipe['ingredients'] = {}\n",
    "        recipe['method'] = {}\n",
    "        page = requests.get(self.rootUrl+url, headers = HEADERS)\n",
    "        soup = BeautifulSoup(page.content, 'html.parser')\n",
    "        recipe_title = soup.find('h1', attrs={'class':'recipe-header__title', 'itemprop':'name'}).text\n",
    "        recipe_details = soup.find('div', attrs={'class':'recipe-details'})\n",
    "        recipe_ingredients = soup.find('div', attrs={'class':'ingredients-list__content'})\n",
    "        recipe_method = soup.find('div', attrs={'class':'method'})\n",
    "        recipe['title'] = recipe_title\n",
    "        recipe['details']['prep_time'] = recipe_details.find_all('span', attrs={'class':'mins'})[0].text\n",
    "        recipe['details']['cook_time'] = recipe_details.find_all('span', attrs={'class':'mins'})[1].text\n",
    "        recipe['details']['difficulty'] = recipe_details.find('span', attrs={'class':'recipe-details__text'}).text\n",
    "        count = 0\n",
    "        for ingredient_text in recipe_ingredients.find_all('li', attrs={'class':'ingredients-list__item'}):\n",
    "            recipe['ingredients'][count] = {}\n",
    "            recipe['ingredients'][count]['name'] = list(ingredient_text.stripped_strings)[0] if len( list(ingredient_text.stripped_strings)) < 2 else list(ingredient_text.stripped_strings)[0] + ' ' + list(ingredient_text.stripped_strings)[1] \n",
    "            count += 1\n",
    "        recipe['ingredients']['count'] = count\n",
    "        count = 0\n",
    "        for method_step in recipe_method.stripped_strings:\n",
    "            recipe['method'][count] = method_step\n",
    "            count += 1\n",
    "        recipe['method']['count'] = count\n",
    "        self.recipes['recipes'][idx] = recipe\n",
    "\n",
    "    def getAllRecipes(self):\n",
    "        count = 0\n",
    "        for link in self.links:\n",
    "            try:\n",
    "                self.getRecipe(link, count)\n",
    "                count += 1\n",
    "            except Exception as inst:\n",
    "                print(count)\n",
    "                print(link)\n",
    "        self.recipes['count'] = count"
   ]
  },
  {
   "cell_type": "code",
   "execution_count": 11,
   "metadata": {
    "collapsed": true
   },
   "outputs": [],
   "source": [
    "scraper = BBCGoodfoodScraper()\n",
    "scraper.getAllRecipeLinks('/recipes/collection/under-20-minutes')"
   ]
  },
  {
   "cell_type": "code",
   "execution_count": 12,
   "metadata": {},
   "outputs": [
    {
     "name": "stdout",
     "output_type": "stream",
     "text": [
      "2\n",
      "/recipes/amaretti-affogato\n",
      "3\n",
      "/recipes/smoked-mackerel-courgette-butter-bean-salad\n",
      "10\n",
      "/recipes/chocolate-fridge-cake\n",
      "16\n",
      "/recipes/cheats-laksa\n",
      "16\n",
      "/recipes/beetroot-feta-grain-salad\n",
      "28\n",
      "/recipes/1652/curry-in-a-hurry\n",
      "30\n",
      "/recipes/1940/20minute-seafood-pasta-\n",
      "30\n",
      "/recipes/3078/20minute-pork-panfry\n"
     ]
    }
   ],
   "source": [
    "scraper.getAllRecipes()"
   ]
  },
  {
   "cell_type": "code",
   "execution_count": 9,
   "metadata": {},
   "outputs": [
    {
     "data": {
      "text/plain": [
       "{'count': 1,\n",
       " 'recipes': {0: {'details': {'cook_time': '10 mins',\n",
       "    'difficulty': ' Easy ',\n",
       "    'prep_time': '10 mins'},\n",
       "   'ingredients': {0: {'name': '200g cooked beetroot'},\n",
       "    1: {'name': '70g feta'},\n",
       "    2: {'name': '2 limes'},\n",
       "    3: {'name': '2 skin-on salmon'},\n",
       "    'count': 4},\n",
       "   'method': {0: 'Chop the beetroot and feta into small cubes and mix with the juice and zest of one lime and some seasoning.',\n",
       "    1: 'Season the salmon. Heat 2 tbsp of oil in a',\n",
       "    2: 'nonstick frying pan',\n",
       "    3: 'over a high heat. When hot add the salmon, skin-side down, and cook for 3 mins. Flip over, turn the heat down and cook for a further 4-5 mins. Serve with the beetroot salsa and the remaining lime, cut into wedges.',\n",
       "    'count': 4},\n",
       "   'title': 'Salmon with beetroot, feta & lime salsa'}}}"
      ]
     },
     "execution_count": 9,
     "metadata": {},
     "output_type": "execute_result"
    }
   ],
   "source": [
    "scraper.recipes"
   ]
  },
  {
   "cell_type": "code",
   "execution_count": null,
   "metadata": {
    "collapsed": true
   },
   "outputs": [],
   "source": [
    "#if __name__ == \"__main__\":\n",
    "#    scraper = BBCGoodfoodScraper()\n",
    "#    scraper.getAllRecipeLinks('/recipes/collection/under-20-minutes')\n",
    "#    scraper.getAllRecipes()\n"
   ]
  }
 ],
 "metadata": {
  "kernelspec": {
   "display_name": "Python 3",
   "language": "python",
   "name": "python3"
  },
  "language_info": {
   "codemirror_mode": {
    "name": "ipython",
    "version": 3
   },
   "file_extension": ".py",
   "mimetype": "text/x-python",
   "name": "python",
   "nbconvert_exporter": "python",
   "pygments_lexer": "ipython3",
   "version": "3.6.3"
  }
 },
 "nbformat": 4,
 "nbformat_minor": 2
}
